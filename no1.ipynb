{
 "cells": [
  {
   "cell_type": "code",
   "execution_count": null,
   "metadata": {},
   "outputs": [],
   "source": [
    "import numpy as np\n",
    "from matplotlib import pyplot as plt"
   ]
  },
  {
   "cell_type": "code",
   "execution_count": null,
   "metadata": {},
   "outputs": [],
   "source": [
    "v0=2.5\n",
    "dv0=0.5\n",
    "R=8\n",
    "C=3.2E-3\n",
    "L=0.8E-3"
   ]
  },
  {
   "cell_type": "code",
   "execution_count": null,
   "metadata": {},
   "outputs": [],
   "source": [
    "dt=1E-6\n",
    "T_stop=1"
   ]
  },
  {
   "cell_type": "code",
   "execution_count": null,
   "metadata": {},
   "outputs": [],
   "source": [
    "time_arr=np.arange(0,T_stop,dt)\n",
    "dvt_arr=np.zeros(np.shape(time_arr))\n",
    "vt_arr=np.zeros(np.shape(time_arr))\n",
    "dvt_arr[0]=dv0\n",
    "vt_arr[0]=v0"
   ]
  },
  {
   "cell_type": "code",
   "execution_count": null,
   "metadata": {},
   "outputs": [],
   "source": [
    "def Y(dv):\n",
    "    return dv\n",
    "def dY(dv,v):\n",
    "    #return -v\n",
    "    return (-dv*R*C-v)/L/C"
   ]
  },
  {
   "cell_type": "code",
   "execution_count": null,
   "metadata": {},
   "outputs": [],
   "source": [
    "for i in range(len(time_arr)-1):\n",
    "    dvt_arr[i+1]=dvt_arr[i]+dY(dvt_arr[i],vt_arr[i])*dt\n",
    "    vt_arr[i+1]=vt_arr[i]+dvt_arr[i]*dt"
   ]
  },
  {
   "cell_type": "code",
   "execution_count": null,
   "metadata": {},
   "outputs": [],
   "source": [
    "plt.plot(time_arr,vt_arr)"
   ]
  },
  {
   "cell_type": "code",
   "execution_count": null,
   "metadata": {},
   "outputs": [],
   "source": [
    "for i in range(len(time_arr)-1):\n",
    "    h1 = dt*Y(dvt_arr[i])\n",
    "    k1 = dt*dY(dvt_arr[i],vt_arr[i])\n",
    "    h2 = dt*Y(dvt_arr[i]+k1*0.5)\n",
    "    k2 = dt*dY(dvt_arr[i]+k1*0.5,vt_arr[i]+h1*0.5)\n",
    "    h3 = dt*Y(dvt_arr[i]+k2*0.5)\n",
    "    k3 = dt*dY(dvt_arr[i]+k2*0.5,vt_arr[i]+h2*0.5)\n",
    "    h4 = dt*Y(dvt_arr[i]+k3)\n",
    "    k4 = dt*dY(dvt_arr[i]+k3,vt_arr[i]+h3)\n",
    "    vt_arr[i+1] = vt_arr[i]+(h1+2*h2+2*h3+h4)/6\n",
    "    dvt_arr[i+1] = dvt_arr[i]+(k1+2*k2+2*k3+k4)/6"
   ]
  },
  {
   "cell_type": "code",
   "execution_count": null,
   "metadata": {},
   "outputs": [],
   "source": [
    "plt.plot(time_arr,vt_arr)"
   ]
  },
  {
   "cell_type": "markdown",
   "metadata": {},
   "source": [
    "Solve secara analitik dengan sympy"
   ]
  },
  {
   "cell_type": "code",
   "execution_count": null,
   "metadata": {},
   "outputs": [],
   "source": [
    "from sympy import Function, dsolve, Eq\n",
    "from sympy.abc import x\n",
    "f = Function('f')\n",
    "eq = Eq(f(x) + L*C*f(x).diff(x, 2)+R*C*f(x).diff(x, 1), 0)\n",
    "eq"
   ]
  },
  {
   "cell_type": "code",
   "execution_count": null,
   "metadata": {},
   "outputs": [],
   "source": [
    "result=dsolve(eq, f(x),ics={f(0): v0,f(x).diff(x).subs(x,0): dv0})\n",
    "result"
   ]
  },
  {
   "cell_type": "code",
   "execution_count": null,
   "metadata": {},
   "outputs": [],
   "source": [
    "from sympy.plotting import plot\n",
    "plot(result.args[1])"
   ]
  },
  {
   "cell_type": "markdown",
   "metadata": {},
   "source": [
    "Solve secara numerik dengan scipy"
   ]
  },
  {
   "cell_type": "code",
   "execution_count": null,
   "metadata": {},
   "outputs": [],
   "source": [
    "from scipy.integrate import odeint,solve_ivp"
   ]
  },
  {
   "cell_type": "code",
   "execution_count": null,
   "metadata": {},
   "outputs": [],
   "source": [
    "def system(t, y):\n",
    "    fx, dfx = y\n",
    "    dydt = [Y(dfx), dY(dfx,fx)]\n",
    "    #dydt = [dfx, -fx]\n",
    "    return dydt"
   ]
  },
  {
   "cell_type": "code",
   "execution_count": null,
   "metadata": {},
   "outputs": [],
   "source": [
    "y0=[v0,dv0]\n",
    "us=solve_ivp(system,[0,1],y0)\n",
    "#us= odeint(f,y0,xs)"
   ]
  },
  {
   "cell_type": "code",
   "execution_count": null,
   "metadata": {},
   "outputs": [],
   "source": [
    "plt.figure(figsize=(20, 2), dpi=80)\n",
    "plt.plot(us.t,us.y[0])"
   ]
  }
 ],
 "metadata": {
  "interpreter": {
   "hash": "b6f25d253e9ef28c30dd30f43d7aceaf3b35d139b818aef12eb4cd0f93e2e018"
  },
  "kernelspec": {
   "display_name": "Python 3.8.8 64-bit ('base': conda)",
   "name": "python3"
  },
  "language_info": {
   "codemirror_mode": {
    "name": "ipython",
    "version": 3
   },
   "file_extension": ".py",
   "mimetype": "text/x-python",
   "name": "python",
   "nbconvert_exporter": "python",
   "pygments_lexer": "ipython3",
   "version": "3.8.8"
  },
  "orig_nbformat": 4
 },
 "nbformat": 4,
 "nbformat_minor": 2
}
